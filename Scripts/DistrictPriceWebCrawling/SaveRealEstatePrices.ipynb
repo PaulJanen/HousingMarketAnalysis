{
 "cells": [
  {
   "cell_type": "code",
   "execution_count": 4,
   "id": "978f0288-4e6f-44fb-ba4c-5fc5ccedd2bd",
   "metadata": {},
   "outputs": [],
   "source": [
    "import os\n",
    "from google.cloud import bigquery"
   ]
  },
  {
   "cell_type": "code",
   "execution_count": 23,
   "id": "b5bd90b3-1fe7-49f4-ac8a-e399d399fb06",
   "metadata": {},
   "outputs": [
    {
     "data": {
      "text/plain": [
       "'C:\\\\Users\\\\Paulius\\\\Documents\\\\GitHub\\\\HousingMarketAnalysis'"
      ]
     },
     "execution_count": 23,
     "metadata": {},
     "output_type": "execute_result"
    }
   ],
   "source": [
    "#os.getcwd()\n",
    "#os.chdir('..')"
   ]
  },
  {
   "cell_type": "code",
   "execution_count": 6,
   "id": "38df92a8-6509-4f49-9d3c-b80798353a6e",
   "metadata": {},
   "outputs": [],
   "source": [
    "os.environ['GOOGLE_APPLICATION_CREDENTIALS'] = \"../tidal-nova-262216-a5a79d487ed9.json\"\n",
    "client = bigquery.Client()"
   ]
  },
  {
   "cell_type": "code",
   "execution_count": 20,
   "id": "4602336a-0ade-45c1-84ba-1a3b299cd57d",
   "metadata": {},
   "outputs": [],
   "source": [
    "#sqlQuery = \"SELECT * FROM `tidal-nova-262216.city_data.cities` LIMIT 10\"\n",
    "#queryJob = client.query(sqlQuery)\n",
    "#for row in queryJob.result():\n",
    "#    print(row.city_name)\n",
    "#    print(row[0])"
   ]
  },
  {
   "cell_type": "code",
   "execution_count": 1,
   "id": "8b4836f7-d93b-4684-b1be-fe4da5ce7b15",
   "metadata": {},
   "outputs": [],
   "source": [
    "def SaveHousingPrices(dataTableFlatsForSale, tableName):\n",
    "    previousIndex = 0\n",
    "    rowSplitChunk = 100\n",
    "    howManyChunks = round(dataTableFlatsForSale.shape[0] / rowSplitChunk)\n",
    "    for i in range(1,howManyChunks):\n",
    "        df = dataTableFlatsForSale.iloc[previousIndex*rowSplitChunk:i*rowSplitChunk,:]\n",
    "        previousIndex = i\n",
    "        SaveHousingPricesSQL(df, tableName)     \n",
    "    df = dataTableFlatsForSale.iloc[(howManyChunks-1)*rowSplitChunk:dataTableFlatsForSale.shape[0],:]\n",
    "    print(\"done\")\n",
    "    SaveHousingPricesSQL(df, tableName)\n",
    "\n",
    "       \n",
    "        \n",
    "def SaveHousingPricesSQL(df, tableName):\n",
    "    sqlQuery = \"INSERT INTO `{}` (Date, City, District, Price) VALUES \".format(tableName)\n",
    "    values = \"\"\n",
    "    for row in df.itertuples():\n",
    "        values +=  \"('{}', '{}', '{}', {}), \".format(row.Date+\"-01\", row.Region, row.District, row.Price)\n",
    "    \n",
    "    sqlQuery += values[0:-2]\n",
    "    queryJob = client.query(sqlQuery)\n",
    "    queryJob.result()"
   ]
  }
 ],
 "metadata": {
  "kernelspec": {
   "display_name": "Python 3 (ipykernel)",
   "language": "python",
   "name": "python3"
  },
  "language_info": {
   "codemirror_mode": {
    "name": "ipython",
    "version": 3
   },
   "file_extension": ".py",
   "mimetype": "text/x-python",
   "name": "python",
   "nbconvert_exporter": "python",
   "pygments_lexer": "ipython3",
   "version": "3.10.4"
  }
 },
 "nbformat": 4,
 "nbformat_minor": 5
}
