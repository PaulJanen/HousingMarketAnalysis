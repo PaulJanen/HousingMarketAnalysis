{
 "cells": [
  {
   "cell_type": "code",
   "execution_count": 2,
   "id": "ff332b65-b2df-4fef-a06e-5ecf53653335",
   "metadata": {},
   "outputs": [],
   "source": [
    "import requests as req\n",
    "from bs4 import BeautifulSoup as bs\n",
    "import pandas as pd\n",
    "import re\n",
    "import numpy as np\n",
    "import datetime as dt\n",
    "from datetime import datetime\n",
    "\n",
    "from time import sleep\n",
    "from selenium import webdriver\n",
    "from selenium.webdriver.support.ui import Select\n",
    "from selenium.webdriver.common.by import By\n",
    "from selenium.webdriver.common.keys import Keys"
   ]
  },
  {
   "cell_type": "code",
   "execution_count": 5,
   "id": "bfafcf86-6768-4794-a16a-9a24425743cd",
   "metadata": {},
   "outputs": [
    {
     "name": "stdout",
     "output_type": "stream",
     "text": [
      "Page is not accessible, error code: 403\n"
     ]
    }
   ],
   "source": [
    "url = \"https://www.aruodas.lt/namai/vilniuje/antakalnyje/\"\n",
    "response = req.get(url)\n",
    "\n",
    "if(response.status_code == 200):\n",
    "    print(\"Page is accessible\")\n",
    "else:\n",
    "    print(\"Page is not accessible, error code: {}\".format(response.status_code))"
   ]
  },
  {
   "cell_type": "code",
   "execution_count": 6,
   "id": "e099393b-c0d7-48ce-af41-c0fe23507c63",
   "metadata": {},
   "outputs": [],
   "source": [
    "flatsPriceData = pd.read_excel('../DistrictPriceAnalysis/FlatsPriceDataPivot.xlsx')"
   ]
  },
  {
   "cell_type": "code",
   "execution_count": 7,
   "id": "277dd343-e43d-4499-aff1-f20de9ca2063",
   "metadata": {},
   "outputs": [
    {
     "data": {
      "text/html": [
       "<div>\n",
       "<style scoped>\n",
       "    .dataframe tbody tr th:only-of-type {\n",
       "        vertical-align: middle;\n",
       "    }\n",
       "\n",
       "    .dataframe tbody tr th {\n",
       "        vertical-align: top;\n",
       "    }\n",
       "\n",
       "    .dataframe thead th {\n",
       "        text-align: right;\n",
       "    }\n",
       "</style>\n",
       "<table border=\"1\" class=\"dataframe\">\n",
       "  <thead>\n",
       "    <tr style=\"text-align: right;\">\n",
       "      <th></th>\n",
       "      <th>City</th>\n",
       "      <th>District</th>\n",
       "      <th>Sale_m2</th>\n",
       "      <th>Rent_m2</th>\n",
       "      <th>RelativePriceToRent</th>\n",
       "    </tr>\n",
       "  </thead>\n",
       "  <tbody>\n",
       "    <tr>\n",
       "      <th>0</th>\n",
       "      <td>Kaunas</td>\n",
       "      <td>Sargėnai</td>\n",
       "      <td>978.00</td>\n",
       "      <td>7.65</td>\n",
       "      <td>127.83</td>\n",
       "    </tr>\n",
       "    <tr>\n",
       "      <th>1</th>\n",
       "      <td>Vilnius</td>\n",
       "      <td>Naujoji Vilnia</td>\n",
       "      <td>1216.42</td>\n",
       "      <td>8.99</td>\n",
       "      <td>135.27</td>\n",
       "    </tr>\n",
       "    <tr>\n",
       "      <th>2</th>\n",
       "      <td>Kaunas</td>\n",
       "      <td>Aukštieji Šančiai</td>\n",
       "      <td>1280.45</td>\n",
       "      <td>8.86</td>\n",
       "      <td>144.57</td>\n",
       "    </tr>\n",
       "    <tr>\n",
       "      <th>3</th>\n",
       "      <td>Klaipėda</td>\n",
       "      <td>Žvejybos uostas</td>\n",
       "      <td>1096.83</td>\n",
       "      <td>7.07</td>\n",
       "      <td>155.05</td>\n",
       "    </tr>\n",
       "    <tr>\n",
       "      <th>4</th>\n",
       "      <td>Panevėžys</td>\n",
       "      <td>Centras</td>\n",
       "      <td>1030.73</td>\n",
       "      <td>6.56</td>\n",
       "      <td>157.08</td>\n",
       "    </tr>\n",
       "  </tbody>\n",
       "</table>\n",
       "</div>"
      ],
      "text/plain": [
       "        City           District  Sale_m2  Rent_m2  RelativePriceToRent\n",
       "0     Kaunas           Sargėnai   978.00     7.65               127.83\n",
       "1    Vilnius     Naujoji Vilnia  1216.42     8.99               135.27\n",
       "2     Kaunas  Aukštieji Šančiai  1280.45     8.86               144.57\n",
       "3   Klaipėda    Žvejybos uostas  1096.83     7.07               155.05\n",
       "4  Panevėžys            Centras  1030.73     6.56               157.08"
      ]
     },
     "execution_count": 7,
     "metadata": {},
     "output_type": "execute_result"
    }
   ],
   "source": [
    "xls = pd.ExcelFile('../DistrictPriceAnalysis/FlatsPriceDataPivot.xlsx')\n",
    "flatsPriceData = pd.read_excel(xls, 'SortedData')\n",
    "flatsPriceData.head()"
   ]
  },
  {
   "cell_type": "code",
   "execution_count": 4,
   "id": "ab246f2a-96d7-46c9-93a9-c7b0b85d8d38",
   "metadata": {},
   "outputs": [],
   "source": [
    "#flatsPriceData.iloc[0][1]"
   ]
  },
  {
   "cell_type": "code",
   "execution_count": 8,
   "id": "83d2e344-eeee-4fd7-98da-76b61d3b30f0",
   "metadata": {},
   "outputs": [],
   "source": [
    "def GetDistrictUrl(city, district):\n",
    "    url = \"https://en.aruodas.lt/\"\n",
    "    driver = webdriver.Chrome(r\"C:/Users/Paulius/Downloads/chromedriver_win32 (1)/chromedriver.exe\")\n",
    "    driver.get(url)\n",
    "    sleep(1)\n",
    "    driver.find_element_by_id('onetrust-accept-btn-handler').click()\n",
    "    sleep(1)   \n",
    "    driver.find_element(By.ID, 'display_FRegion').click()\n",
    "    sleep(0.5)\n",
    "    cityInput = driver.find_element(By.ID, \"filterInput_FRegion\")\n",
    "    cityInput.send_keys(city)\n",
    "    sleep(0.5)\n",
    "    cityInput.send_keys(Keys.ENTER)\n",
    "    sleep(0.5)\n",
    "    driver.find_element(By.ID, 'display_FQuartal').click()\n",
    "    sleep(2)\n",
    "    driver.switch_to.frame(driver.find_element(By.ID, \"fancybox-frame\"))\n",
    "    sleep(1)\n",
    "    driver.find_element_by_xpath(\"//label[@title='{}']\".format(district)).click()\n",
    "    sleep(0.5)\n",
    "    driver.find_element(By.ID, 'btSaveSelected').click()\n",
    "    sleep(0.5)\n",
    "    driver.switch_to.default_content()\n",
    "    sleep(0.5)\n",
    "    driver.find_element(By.ID, 'buttonSearchForm').click()\n",
    "    currentUrl = driver.current_url\n",
    "    driver.close()\n",
    "    return currentUrl"
   ]
  },
  {
   "cell_type": "code",
   "execution_count": 89,
   "id": "7ef97213-a0f1-45af-addd-2d351e929e3a",
   "metadata": {},
   "outputs": [
    {
     "data": {
      "text/plain": [
       "'https://en.aruodas.lt/butai/kaune/sargenuose/'"
      ]
     },
     "execution_count": 89,
     "metadata": {},
     "output_type": "execute_result"
    }
   ],
   "source": [
    "GetDistrictUrl(flatsPriceData.iloc[0][0],flatsPriceData.iloc[0][1])"
   ]
  },
  {
   "cell_type": "code",
   "execution_count": 9,
   "id": "ac99027a-5c1a-40c5-87de-1524862e2ddf",
   "metadata": {},
   "outputs": [],
   "source": [
    "def GetDistrictPropertyData(districtUrl, city, district, globalDataFrame):\n",
    "    driver = webdriver.Chrome(r\"C:/Users/Paulius/Downloads/chromedriver_win32 (1)/chromedriver.exe\")\n",
    "    driver.get(districtUrl)\n",
    "    sleep(1)\n",
    "    driver.find_element_by_id('onetrust-accept-btn-handler').click()\n",
    "    sleep(1)\n",
    "    \n",
    "    soup = bs(driver.page_source, \"lxml\")\n",
    "    pagination = soup.find(\"div\", {\"class\" : \"pagination\"})\n",
    "    maxPages = 1\n",
    "    if(pagination is not None and len(pagination) > 0):\n",
    "        maxPages = (len(pagination.find_all(\"a\", {\"class\" : \"page-bt\"})))\n",
    "    \n",
    "    for page in range(1,maxPages+1):\n",
    "        url = districtUrl + \"puslapis/\" + str(page) + \"/\"       \n",
    "        driver.get(url)\n",
    "        sleep(1)\n",
    "        soup = bs(driver.page_source, \"lxml\")\n",
    "        allElements = soup.find_all(\"tr\", {\"class\" : \"list-row\"})\n",
    "        allListings = [element.find('h3').find('a', href=True)['href'] for element in allElements if element.find(\"td\", {\"class\":\"list-adress\"}) != None]\n",
    "        \n",
    "        for propertyUrl in allListings:\n",
    "            driver.get(propertyUrl)\n",
    "            sleep(1)\n",
    "            soup = bs(driver.page_source, \"lxml\")\n",
    "            \n",
    "            price = soup.find(\"span\", {\"class\" : \"price-eur\"}).text.split(\"€\")[0].strip().replace(\" \", \"\")\n",
    "            pricePerM2 = soup.find(\"span\", {\"class\" : \"price-per\"}).text.split(\"€\")[0].strip().split(\"(\")[1].replace(\" \", \"\")         \n",
    "            \n",
    "            mainTable = soup.find(\"dl\", {\"class\" : \"obj-details\"})\n",
    "            area = mainTable.find('dt', text=re.compile('Area')).find_next_sibling('dd').text.strip().split(\" \")[0].replace(\",\", \".\")    \n",
    "            floor = mainTable.find('dt', text=re.compile('Floor')).find_next_sibling('dd').text.strip()\n",
    "            numberOfFloors = mainTable.find('dt', text=re.compile('No. of floors')).find_next_sibling('dd').text.strip()\n",
    "            roomCount = mainTable.find('dt', text=re.compile('Number of rooms')).find_next_sibling('dd').text.strip()\n",
    "            builtYear = mainTable.find('dt', text=re.compile('Build year')).find_next_sibling('dd').text.strip()\n",
    "            heating = mainTable.find('dt', text=re.compile('Heating system')).find_next_sibling('dd').text.strip()\n",
    "            equipment = mainTable.find('dt', text=re.compile('Equipment')).find_next_sibling('dd').text.strip()\n",
    "            dataTable = pd.DataFrame({'Price': [price], 'PricePerM2': [pricePerM2], 'Area': [area], 'floor' : [floor], 'Number of floors': [numberOfFloors], 'Room count': [roomCount], \n",
    "                                      'Built year': [builtYear], 'Heating': [heating], 'Equipment': [equipment], 'City': [city], 'District': [district], 'href':[propertyUrl]})\n",
    "            globalDataFrame = pd.concat( [globalDataFrame, dataTable])\n",
    "            #print(globalDataFrame)\n",
    "            driver.back()\n",
    "            sleep(1)        \n",
    "    driver.close()\n",
    "    return globalDataFrame"
   ]
  },
  {
   "cell_type": "code",
   "execution_count": 37,
   "id": "ed9ca771-2192-4bf5-9cf5-8d14eb4aa7d9",
   "metadata": {},
   "outputs": [],
   "source": [
    "globalDataFrame = pd.DataFrame()\n",
    "table = GetDistrictPropertyData(\"https://en.aruodas.lt/butai/vilniuje/seskineje/\",flatsPriceData.iloc[0][0],flatsPriceData.iloc[0][1], globalDataFrame)"
   ]
  },
  {
   "cell_type": "code",
   "execution_count": 10,
   "id": "ea666c4b-39aa-4e2d-af7b-1657a7e8039e",
   "metadata": {},
   "outputs": [],
   "source": [
    "def GetAllListings(flatsPriceData):\n",
    "    global globalDataFrame\n",
    "    for index in range(0,85):\n",
    "        districtUrl = GetDistrictUrl(flatsPriceData.iloc[index][0], flatsPriceData.iloc[index][1])\n",
    "        globalDataFrame = GetDistrictPropertyData(districtUrl, flatsPriceData.iloc[index][0], flatsPriceData.iloc[index][1], globalDataFrame)\n",
    "        print(index)\n",
    "    return globalDataFrame"
   ]
  },
  {
   "cell_type": "code",
   "execution_count": 3,
   "id": "18e9b811-1fa0-49ef-b562-a10bc3aa55ef",
   "metadata": {},
   "outputs": [],
   "source": [
    "globalDataFrame = pd.DataFrame()\n",
    "allListings = GetAllListings(flatsPriceData)"
   ]
  },
  {
   "cell_type": "code",
   "execution_count": 203,
   "id": "372f4e0d-d311-4d53-b08a-27a866b5e96f",
   "metadata": {},
   "outputs": [],
   "source": [
    "def ChangeDataTypesAndCleanData(df):\n",
    "    df = df.reset_index()\n",
    "    df[\"Price\"] = pd.to_numeric(df[\"Price\"])\n",
    "    df[\"PricePerM2\"] = pd.to_numeric(df[\"PricePerM2\"])\n",
    "    df[\"Area\"] = pd.to_numeric(df[\"Area\"])\n",
    "    df[\"floor\"] = pd.to_numeric(df[\"floor\"])\n",
    "    df[\"Number of floors\"] = pd.to_numeric(df[\"Number of floors\"])\n",
    "    df[\"Room count\"] = pd.to_numeric(df[\"Room count\"])\n",
    "    df['Built year'] = df['Built year'].apply(lambda x: x[0:4])\n",
    "    df[\"Built year\"] = pd.to_datetime(df['Built year'].apply(lambda x: x[0:4]) + \"-01-01\")\n",
    "    \n",
    "    df[\"Equipment\"] = df[\"Equipment\"].apply(lambda x: \"Partial decoration\" if \"USEFUL\" in x else x)\n",
    "    return df"
   ]
  },
  {
   "cell_type": "code",
   "execution_count": 1,
   "id": "26608588-942f-4cec-bab1-489970dd5bcf",
   "metadata": {},
   "outputs": [],
   "source": [
    "allListings = ChangeDataTypesAndCleanData(allListings)"
   ]
  },
  {
   "cell_type": "code",
   "execution_count": 205,
   "id": "01a1971b-e814-4305-8745-9d2e52fe3f4d",
   "metadata": {},
   "outputs": [],
   "source": [
    "allListings = allListings.reset_index(drop=True)"
   ]
  },
  {
   "cell_type": "code",
   "execution_count": 206,
   "id": "fd8e28c1-dd11-4621-8901-8fcec1d032e1",
   "metadata": {},
   "outputs": [],
   "source": [
    "df = pd.DataFrame()\n",
    "df['date2'] = pd.to_datetime(allListings['Built year'].apply(lambda x: x[0:4]) + \"-01-01\", errors = 'coerce')\n",
    "df = df.reset_index(drop=True)"
   ]
  },
  {
   "cell_type": "code",
   "execution_count": 207,
   "id": "388daed7-1cdf-4337-a239-a1cd205ef4b8",
   "metadata": {},
   "outputs": [
    {
     "data": {
      "text/plain": [
       "<PandasArray>\n",
       "[712, 1738, 2137, 2746, 4044, 4117]\n",
       "Length: 6, dtype: int64"
      ]
     },
     "execution_count": 207,
     "metadata": {},
     "output_type": "execute_result"
    }
   ],
   "source": [
    "indexesForCleaning = df.loc[df['date2'].isna()].index.array\n",
    "indexesForCleaning"
   ]
  },
  {
   "cell_type": "code",
   "execution_count": 208,
   "id": "d4ccc447-ce3f-48c6-b24d-b9312479604e",
   "metadata": {},
   "outputs": [
    {
     "data": {
      "text/plain": [
       "'1000'"
      ]
     },
     "execution_count": 208,
     "metadata": {},
     "output_type": "execute_result"
    }
   ],
   "source": [
    "allListings['Built year'].iloc[712]\n",
    "#allListings['href'].iloc[712]"
   ]
  },
  {
   "cell_type": "code",
   "execution_count": 209,
   "id": "f896789c-8550-4e8b-b6ea-1881cd365982",
   "metadata": {},
   "outputs": [
    {
     "data": {
      "text/plain": [
       "Price                                                           36000\n",
       "PricePerM2                                                       1500\n",
       "Area                                                               24\n",
       "floor                                                               3\n",
       "Number of floors                                                    5\n",
       "                                          ...                        \n",
       "Heating                                                       Central\n",
       "Equipment                                              Fully equipped\n",
       "City                                                           Kaunas\n",
       "District                                                      Dainava\n",
       "href                https://en.aruodas.lt/butai-kaune-dainavoje-v-...\n",
       "Name: 712, Length: 12, dtype: object"
      ]
     },
     "execution_count": 209,
     "metadata": {},
     "output_type": "execute_result"
    }
   ],
   "source": [
    "allListings.iloc[712]"
   ]
  },
  {
   "cell_type": "code",
   "execution_count": 210,
   "id": "82a3460b-2386-4e60-aaa7-8c460cabc6b6",
   "metadata": {},
   "outputs": [],
   "source": [
    "for index in indexesForCleaning:\n",
    "    indexesForCleaning = df.loc[df['date2'].isna()].index.array\n",
    "    cityForCleaning = allListings['City'].iloc[index]\n",
    "    districtForCleaning = allListings['District'].iloc[index]\n",
    "    withoutProblematicDates = allListings[~allListings.index.isin(indexesForCleaning)]\n",
    "    filter1 = withoutProblematicDates['City'] == cityForCleaning\n",
    "    filter2 = withoutProblematicDates['District'] == districtForCleaning\n",
    "\n",
    "    withoutProblematicDates = withoutProblematicDates.loc[filter1 * filter2]\n",
    "    dates = pd.to_datetime(withoutProblematicDates['Built year'].apply(lambda x: x[0:4]) + \"-01-01\")\n",
    "    medianDate = int(np.median(np.array(dates.map(dt.datetime.toordinal))))\n",
    "    medianDate = dt.datetime.fromordinal(medianDate)\n",
    "    year = str(medianDate)[0:4]\n",
    "    allListings[\"Built year\"].iloc[index] = year"
   ]
  },
  {
   "cell_type": "code",
   "execution_count": 212,
   "id": "df7f433a-2ef8-40e1-84e6-e043334e2dd9",
   "metadata": {},
   "outputs": [
    {
     "name": "stdout",
     "output_type": "stream",
     "text": [
      "1973\n",
      "1984\n"
     ]
    }
   ],
   "source": [
    "print(allListings['Built year'].iloc[712])\n",
    "print(allListings['Built year'].iloc[1738])"
   ]
  },
  {
   "cell_type": "code",
   "execution_count": 213,
   "id": "f3e5794e-b4b8-4a30-bd8f-e3fe462bf5c2",
   "metadata": {},
   "outputs": [],
   "source": [
    "allListings = ChangeDataTypesAndCleanData(allListings)"
   ]
  },
  {
   "cell_type": "code",
   "execution_count": 214,
   "id": "d0fd4a79-9c2f-4269-a289-6bfb8aedd771",
   "metadata": {},
   "outputs": [],
   "source": [
    "allListings.to_csv('./AllListings.csv', index=False, encoding='utf-8-sig')"
   ]
  },
  {
   "cell_type": "code",
   "execution_count": 249,
   "id": "68d13499-fa6e-488a-ab05-448c4809a399",
   "metadata": {},
   "outputs": [],
   "source": [
    "pd.set_option('display.max_rows', 10)\n",
    "allListingsCount = (allListings.groupby(['City', 'District']).size().reset_index(name='ListingsCount'))\n",
    "eligibleListings = allListingsCount[allListingsCount[\"ListingsCount\"]>=20].reset_index(drop=True)\n",
    "eligibleListings.to_csv('./EligibleListings.csv', index=False, encoding='utf-8-sig')"
   ]
  },
  {
   "cell_type": "code",
   "execution_count": 270,
   "id": "ab5fb189-8423-42df-bb1e-aa6b6cd8066b",
   "metadata": {},
   "outputs": [],
   "source": [
    "allEligiblePropertiesFilter = allListings[\"District\"].apply(lambda x: True if x in eligibleListings[\"District\"].array else False)\n",
    "allEligibleListings = allListings[allEligiblePropertiesFilter].drop(\"index\", axis = 1)\n",
    "allEligibleListings.to_csv('./AllEligibleListings.csv', index=False, encoding='utf-8-sig')"
   ]
  }
 ],
 "metadata": {
  "kernelspec": {
   "display_name": "Python 3 (ipykernel)",
   "language": "python",
   "name": "python3"
  },
  "language_info": {
   "codemirror_mode": {
    "name": "ipython",
    "version": 3
   },
   "file_extension": ".py",
   "mimetype": "text/x-python",
   "name": "python",
   "nbconvert_exporter": "python",
   "pygments_lexer": "ipython3",
   "version": "3.10.4"
  }
 },
 "nbformat": 4,
 "nbformat_minor": 5
}
