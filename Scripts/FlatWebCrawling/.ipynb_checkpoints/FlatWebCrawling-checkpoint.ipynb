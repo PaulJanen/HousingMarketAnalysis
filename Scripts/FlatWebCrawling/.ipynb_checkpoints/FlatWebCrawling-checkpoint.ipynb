{
 "cells": [
  {
   "cell_type": "code",
   "execution_count": 2,
   "id": "ff332b65-b2df-4fef-a06e-5ecf53653335",
   "metadata": {},
   "outputs": [],
   "source": [
    "import requests as req\n",
    "from bs4 import BeautifulSoup as bs\n",
    "import pandas as pd\n",
    "import re\n",
    "import numpy as np\n",
    "import datetime as dt\n",
    "from datetime import datetime\n",
    "\n",
    "from time import sleep\n",
    "from selenium import webdriver\n",
    "from selenium.webdriver.support.ui import Select\n",
    "from selenium.webdriver.common.by import By\n",
    "from selenium.webdriver.common.keys import Keys"
   ]
  },
  {
   "cell_type": "code",
   "execution_count": 5,
   "id": "bfafcf86-6768-4794-a16a-9a24425743cd",
   "metadata": {},
   "outputs": [
    {
     "name": "stdout",
     "output_type": "stream",
     "text": [
      "Page is not accessible, error code: 403\n"
     ]
    }
   ],
   "source": [
    "url = \"https://www.aruodas.lt/namai/vilniuje/antakalnyje/\"\n",
    "response = req.get(url)\n",
    "\n",
    "if(response.status_code == 200):\n",
    "    print(\"Page is accessible\")\n",
    "else:\n",
    "    print(\"Page is not accessible, error code: {}\".format(response.status_code))"
   ]
  },
  {
   "cell_type": "code",
   "execution_count": 6,
   "id": "e099393b-c0d7-48ce-af41-c0fe23507c63",
   "metadata": {},
   "outputs": [],
   "source": [
    "flatsPriceData = pd.read_excel('../DistrictPriceAnalysis/FlatsPriceDataPivot.xlsx')"
   ]
  },
  {
   "cell_type": "code",
   "execution_count": 7,
   "id": "277dd343-e43d-4499-aff1-f20de9ca2063",
   "metadata": {},
   "outputs": [
    {
     "data": {
      "text/html": [
       "<div>\n",
       "<style scoped>\n",
       "    .dataframe tbody tr th:only-of-type {\n",
       "        vertical-align: middle;\n",
       "    }\n",
       "\n",
       "    .dataframe tbody tr th {\n",
       "        vertical-align: top;\n",
       "    }\n",
       "\n",
       "    .dataframe thead th {\n",
       "        text-align: right;\n",
       "    }\n",
       "</style>\n",
       "<table border=\"1\" class=\"dataframe\">\n",
       "  <thead>\n",
       "    <tr style=\"text-align: right;\">\n",
       "      <th></th>\n",
       "      <th>City</th>\n",
       "      <th>District</th>\n",
       "      <th>Sale_m2</th>\n",
       "      <th>Rent_m2</th>\n",
       "      <th>RelativePriceToRent</th>\n",
       "    </tr>\n",
       "  </thead>\n",
       "  <tbody>\n",
       "    <tr>\n",
       "      <th>0</th>\n",
       "      <td>Kaunas</td>\n",
       "      <td>Sargėnai</td>\n",
       "      <td>978.00</td>\n",
       "      <td>7.65</td>\n",
       "      <td>127.83</td>\n",
       "    </tr>\n",
       "    <tr>\n",
       "      <th>1</th>\n",
       "      <td>Vilnius</td>\n",
       "      <td>Naujoji Vilnia</td>\n",
       "      <td>1216.42</td>\n",
       "      <td>8.99</td>\n",
       "      <td>135.27</td>\n",
       "    </tr>\n",
       "    <tr>\n",
       "      <th>2</th>\n",
       "      <td>Kaunas</td>\n",
       "      <td>Aukštieji Šančiai</td>\n",
       "      <td>1280.45</td>\n",
       "      <td>8.86</td>\n",
       "      <td>144.57</td>\n",
       "    </tr>\n",
       "    <tr>\n",
       "      <th>3</th>\n",
       "      <td>Klaipėda</td>\n",
       "      <td>Žvejybos uostas</td>\n",
       "      <td>1096.83</td>\n",
       "      <td>7.07</td>\n",
       "      <td>155.05</td>\n",
       "    </tr>\n",
       "    <tr>\n",
       "      <th>4</th>\n",
       "      <td>Panevėžys</td>\n",
       "      <td>Centras</td>\n",
       "      <td>1030.73</td>\n",
       "      <td>6.56</td>\n",
       "      <td>157.08</td>\n",
       "    </tr>\n",
       "  </tbody>\n",
       "</table>\n",
       "</div>"
      ],
      "text/plain": [
       "        City           District  Sale_m2  Rent_m2  RelativePriceToRent\n",
       "0     Kaunas           Sargėnai   978.00     7.65               127.83\n",
       "1    Vilnius     Naujoji Vilnia  1216.42     8.99               135.27\n",
       "2     Kaunas  Aukštieji Šančiai  1280.45     8.86               144.57\n",
       "3   Klaipėda    Žvejybos uostas  1096.83     7.07               155.05\n",
       "4  Panevėžys            Centras  1030.73     6.56               157.08"
      ]
     },
     "execution_count": 7,
     "metadata": {},
     "output_type": "execute_result"
    }
   ],
   "source": [
    "xls = pd.ExcelFile('../DistrictPriceAnalysis/FlatsPriceDataPivot.xlsx')\n",
    "flatsPriceData = pd.read_excel(xls, 'SortedData')\n",
    "flatsPriceData.head()"
   ]
  },
  {
   "cell_type": "code",
   "execution_count": 4,
   "id": "ab246f2a-96d7-46c9-93a9-c7b0b85d8d38",
   "metadata": {},
   "outputs": [],
   "source": [
    "#flatsPriceData.iloc[0][1]"
   ]
  },
  {
   "cell_type": "code",
   "execution_count": 8,
   "id": "83d2e344-eeee-4fd7-98da-76b61d3b30f0",
   "metadata": {},
   "outputs": [],
   "source": [
    "def GetDistrictUrl(city, district):\n",
    "    url = \"https://en.aruodas.lt/\"\n",
    "    driver = webdriver.Chrome(r\"C:/Users/Paulius/Downloads/chromedriver_win32 (1)/chromedriver.exe\")\n",
    "    driver.get(url)\n",
    "    sleep(1)\n",
    "    driver.find_element_by_id('onetrust-accept-btn-handler').click()\n",
    "    sleep(1)   \n",
    "    driver.find_element(By.ID, 'display_FRegion').click()\n",
    "    sleep(0.5)\n",
    "    cityInput = driver.find_element(By.ID, \"filterInput_FRegion\")\n",
    "    cityInput.send_keys(city)\n",
    "    sleep(0.5)\n",
    "    cityInput.send_keys(Keys.ENTER)\n",
    "    sleep(0.5)\n",
    "    driver.find_element(By.ID, 'display_FQuartal').click()\n",
    "    sleep(2)\n",
    "    driver.switch_to.frame(driver.find_element(By.ID, \"fancybox-frame\"))\n",
    "    sleep(1)\n",
    "    driver.find_element_by_xpath(\"//label[@title='{}']\".format(district)).click()\n",
    "    sleep(0.5)\n",
    "    driver.find_element(By.ID, 'btSaveSelected').click()\n",
    "    sleep(0.5)\n",
    "    driver.switch_to.default_content()\n",
    "    sleep(0.5)\n",
    "    driver.find_element(By.ID, 'buttonSearchForm').click()\n",
    "    currentUrl = driver.current_url\n",
    "    driver.close()\n",
    "    return currentUrl"
   ]
  },
  {
   "cell_type": "code",
   "execution_count": 89,
   "id": "7ef97213-a0f1-45af-addd-2d351e929e3a",
   "metadata": {},
   "outputs": [
    {
     "data": {
      "text/plain": [
       "'https://en.aruodas.lt/butai/kaune/sargenuose/'"
      ]
     },
     "execution_count": 89,
     "metadata": {},
     "output_type": "execute_result"
    }
   ],
   "source": [
    "GetDistrictUrl(flatsPriceData.iloc[0][0],flatsPriceData.iloc[0][1])"
   ]
  },
  {
   "cell_type": "code",
   "execution_count": 9,
   "id": "ac99027a-5c1a-40c5-87de-1524862e2ddf",
   "metadata": {},
   "outputs": [],
   "source": [
    "def GetDistrictPropertyData(districtUrl, city, district, globalDataFrame):\n",
    "    driver = webdriver.Chrome(r\"C:/Users/Paulius/Downloads/chromedriver_win32 (1)/chromedriver.exe\")\n",
    "    driver.get(districtUrl)\n",
    "    sleep(1)\n",
    "    driver.find_element_by_id('onetrust-accept-btn-handler').click()\n",
    "    sleep(1)\n",
    "    \n",
    "    soup = bs(driver.page_source, \"lxml\")\n",
    "    pagination = soup.find(\"div\", {\"class\" : \"pagination\"})\n",
    "    maxPages = 1\n",
    "    if(pagination is not None and len(pagination) > 0):\n",
    "        maxPages = (len(pagination.find_all(\"a\", {\"class\" : \"page-bt\"})))\n",
    "    \n",
    "    for page in range(1,maxPages+1):\n",
    "        url = districtUrl + \"puslapis/\" + str(page) + \"/\"       \n",
    "        driver.get(url)\n",
    "        sleep(1)\n",
    "        soup = bs(driver.page_source, \"lxml\")\n",
    "        allElements = soup.find_all(\"tr\", {\"class\" : \"list-row\"})\n",
    "        allListings = [element.find('h3').find('a', href=True)['href'] for element in allElements if element.find(\"td\", {\"class\":\"list-adress\"}) != None]\n",
    "        \n",
    "        for propertyUrl in allListings:\n",
    "            driver.get(propertyUrl)\n",
    "            sleep(1)\n",
    "            soup = bs(driver.page_source, \"lxml\")\n",
    "            \n",
    "            price = soup.find(\"span\", {\"class\" : \"price-eur\"}).text.split(\"€\")[0].strip().replace(\" \", \"\")\n",
    "            pricePerM2 = soup.find(\"span\", {\"class\" : \"price-per\"}).text.split(\"€\")[0].strip().split(\"(\")[1].replace(\" \", \"\")         \n",
    "            \n",
    "            mainTable = soup.find(\"dl\", {\"class\" : \"obj-details\"})\n",
    "            area = mainTable.find('dt', text=re.compile('Area')).find_next_sibling('dd').text.strip().split(\" \")[0].replace(\",\", \".\")    \n",
    "            floor = mainTable.find('dt', text=re.compile('Floor')).find_next_sibling('dd').text.strip()\n",
    "            numberOfFloors = mainTable.find('dt', text=re.compile('No. of floors')).find_next_sibling('dd').text.strip()\n",
    "            roomCount = mainTable.find('dt', text=re.compile('Number of rooms')).find_next_sibling('dd').text.strip()\n",
    "            builtYear = mainTable.find('dt', text=re.compile('Build year')).find_next_sibling('dd').text.strip()\n",
    "            heating = mainTable.find('dt', text=re.compile('Heating system')).find_next_sibling('dd').text.strip()\n",
    "            equipment = mainTable.find('dt', text=re.compile('Equipment')).find_next_sibling('dd').text.strip()\n",
    "            dataTable = pd.DataFrame({'Price': [price], 'PricePerM2': [pricePerM2], 'Area': [area], 'floor' : [floor], 'Number of floors': [numberOfFloors], 'Room count': [roomCount], \n",
    "                                      'Built year': [builtYear], 'Heating': [heating], 'Equipment': [equipment], 'City': [city], 'District': [district], 'href':[propertyUrl]})\n",
    "            globalDataFrame = pd.concat( [globalDataFrame, dataTable])\n",
    "            #print(globalDataFrame)\n",
    "            driver.back()\n",
    "            sleep(1)        \n",
    "    driver.close()\n",
    "    return globalDataFrame"
   ]
  },
  {
   "cell_type": "code",
   "execution_count": 37,
   "id": "ed9ca771-2192-4bf5-9cf5-8d14eb4aa7d9",
   "metadata": {},
   "outputs": [],
   "source": [
    "globalDataFrame = pd.DataFrame()\n",
    "table = GetDistrictPropertyData(\"https://en.aruodas.lt/butai/vilniuje/seskineje/\",flatsPriceData.iloc[0][0],flatsPriceData.iloc[0][1], globalDataFrame)"
   ]
  },
  {
   "cell_type": "code",
   "execution_count": 10,
   "id": "ea666c4b-39aa-4e2d-af7b-1657a7e8039e",
   "metadata": {},
   "outputs": [],
   "source": [
    "def GetAllListings(flatsPriceData):\n",
    "    global globalDataFrame\n",
    "    for index in range(0,85):\n",
    "        districtUrl = GetDistrictUrl(flatsPriceData.iloc[index][0], flatsPriceData.iloc[index][1])\n",
    "        globalDataFrame = GetDistrictPropertyData(districtUrl, flatsPriceData.iloc[index][0], flatsPriceData.iloc[index][1], globalDataFrame)\n",
    "        print(index)\n",
    "    return globalDataFrame"
   ]
  },
  {
   "cell_type": "code",
   "execution_count": 12,
   "id": "18e9b811-1fa0-49ef-b562-a10bc3aa55ef",
   "metadata": {},
   "outputs": [
    {
     "name": "stdout",
     "output_type": "stream",
     "text": [
      "0\n",
      "1\n",
      "2\n",
      "3\n",
      "4\n",
      "5\n",
      "6\n",
      "7\n",
      "8\n",
      "9\n",
      "10\n",
      "11\n",
      "12\n",
      "13\n",
      "14\n",
      "15\n",
      "16\n",
      "17\n",
      "18\n",
      "19\n",
      "20\n",
      "21\n",
      "22\n",
      "23\n",
      "24\n",
      "25\n",
      "26\n",
      "27\n",
      "28\n",
      "29\n",
      "30\n",
      "31\n",
      "32\n",
      "33\n",
      "34\n",
      "35\n",
      "36\n",
      "37\n",
      "38\n",
      "39\n",
      "40\n",
      "41\n",
      "42\n",
      "43\n",
      "44\n",
      "45\n",
      "46\n",
      "47\n",
      "48\n",
      "49\n",
      "50\n",
      "51\n",
      "52\n",
      "53\n",
      "54\n",
      "55\n",
      "56\n",
      "57\n",
      "58\n",
      "59\n",
      "60\n",
      "61\n",
      "62\n",
      "63\n",
      "64\n",
      "65\n",
      "66\n",
      "67\n",
      "68\n",
      "69\n",
      "70\n",
      "71\n",
      "72\n",
      "73\n",
      "74\n",
      "75\n",
      "76\n",
      "77\n",
      "78\n",
      "79\n",
      "80\n",
      "81\n",
      "82\n"
     ]
    },
    {
     "ename": "IndexError",
     "evalue": "single positional indexer is out-of-bounds",
     "output_type": "error",
     "traceback": [
      "\u001b[1;31m---------------------------------------------------------------------------\u001b[0m",
      "\u001b[1;31mIndexError\u001b[0m                                Traceback (most recent call last)",
      "Input \u001b[1;32mIn [12]\u001b[0m, in \u001b[0;36m<cell line: 2>\u001b[1;34m()\u001b[0m\n\u001b[0;32m      1\u001b[0m globalDataFrame \u001b[38;5;241m=\u001b[39m pd\u001b[38;5;241m.\u001b[39mDataFrame()\n\u001b[1;32m----> 2\u001b[0m allListings \u001b[38;5;241m=\u001b[39m \u001b[43mGetAllListings\u001b[49m\u001b[43m(\u001b[49m\u001b[43mflatsPriceData\u001b[49m\u001b[43m)\u001b[49m\n",
      "Input \u001b[1;32mIn [10]\u001b[0m, in \u001b[0;36mGetAllListings\u001b[1;34m(flatsPriceData)\u001b[0m\n\u001b[0;32m      2\u001b[0m \u001b[38;5;28;01mglobal\u001b[39;00m globalDataFrame\n\u001b[0;32m      3\u001b[0m \u001b[38;5;28;01mfor\u001b[39;00m index \u001b[38;5;129;01min\u001b[39;00m \u001b[38;5;28mrange\u001b[39m(\u001b[38;5;241m0\u001b[39m,\u001b[38;5;241m85\u001b[39m):\n\u001b[1;32m----> 4\u001b[0m     districtUrl \u001b[38;5;241m=\u001b[39m GetDistrictUrl(\u001b[43mflatsPriceData\u001b[49m\u001b[38;5;241;43m.\u001b[39;49m\u001b[43miloc\u001b[49m\u001b[43m[\u001b[49m\u001b[43mindex\u001b[49m\u001b[43m]\u001b[49m[\u001b[38;5;241m0\u001b[39m], flatsPriceData\u001b[38;5;241m.\u001b[39miloc[index][\u001b[38;5;241m1\u001b[39m])\n\u001b[0;32m      5\u001b[0m     globalDataFrame \u001b[38;5;241m=\u001b[39m GetDistrictPropertyData(districtUrl, flatsPriceData\u001b[38;5;241m.\u001b[39miloc[index][\u001b[38;5;241m0\u001b[39m], flatsPriceData\u001b[38;5;241m.\u001b[39miloc[index][\u001b[38;5;241m1\u001b[39m], globalDataFrame)\n\u001b[0;32m      6\u001b[0m     \u001b[38;5;28mprint\u001b[39m(index)\n",
      "File \u001b[1;32m~\\Anaconda3\\envs\\Python_3_10_6\\lib\\site-packages\\pandas\\core\\indexing.py:967\u001b[0m, in \u001b[0;36m_LocationIndexer.__getitem__\u001b[1;34m(self, key)\u001b[0m\n\u001b[0;32m    964\u001b[0m axis \u001b[38;5;241m=\u001b[39m \u001b[38;5;28mself\u001b[39m\u001b[38;5;241m.\u001b[39maxis \u001b[38;5;129;01mor\u001b[39;00m \u001b[38;5;241m0\u001b[39m\n\u001b[0;32m    966\u001b[0m maybe_callable \u001b[38;5;241m=\u001b[39m com\u001b[38;5;241m.\u001b[39mapply_if_callable(key, \u001b[38;5;28mself\u001b[39m\u001b[38;5;241m.\u001b[39mobj)\n\u001b[1;32m--> 967\u001b[0m \u001b[38;5;28;01mreturn\u001b[39;00m \u001b[38;5;28;43mself\u001b[39;49m\u001b[38;5;241;43m.\u001b[39;49m\u001b[43m_getitem_axis\u001b[49m\u001b[43m(\u001b[49m\u001b[43mmaybe_callable\u001b[49m\u001b[43m,\u001b[49m\u001b[43m \u001b[49m\u001b[43maxis\u001b[49m\u001b[38;5;241;43m=\u001b[39;49m\u001b[43maxis\u001b[49m\u001b[43m)\u001b[49m\n",
      "File \u001b[1;32m~\\Anaconda3\\envs\\Python_3_10_6\\lib\\site-packages\\pandas\\core\\indexing.py:1520\u001b[0m, in \u001b[0;36m_iLocIndexer._getitem_axis\u001b[1;34m(self, key, axis)\u001b[0m\n\u001b[0;32m   1517\u001b[0m     \u001b[38;5;28;01mraise\u001b[39;00m \u001b[38;5;167;01mTypeError\u001b[39;00m(\u001b[38;5;124m\"\u001b[39m\u001b[38;5;124mCannot index by location index with a non-integer key\u001b[39m\u001b[38;5;124m\"\u001b[39m)\n\u001b[0;32m   1519\u001b[0m \u001b[38;5;66;03m# validate the location\u001b[39;00m\n\u001b[1;32m-> 1520\u001b[0m \u001b[38;5;28;43mself\u001b[39;49m\u001b[38;5;241;43m.\u001b[39;49m\u001b[43m_validate_integer\u001b[49m\u001b[43m(\u001b[49m\u001b[43mkey\u001b[49m\u001b[43m,\u001b[49m\u001b[43m \u001b[49m\u001b[43maxis\u001b[49m\u001b[43m)\u001b[49m\n\u001b[0;32m   1522\u001b[0m \u001b[38;5;28;01mreturn\u001b[39;00m \u001b[38;5;28mself\u001b[39m\u001b[38;5;241m.\u001b[39mobj\u001b[38;5;241m.\u001b[39m_ixs(key, axis\u001b[38;5;241m=\u001b[39maxis)\n",
      "File \u001b[1;32m~\\Anaconda3\\envs\\Python_3_10_6\\lib\\site-packages\\pandas\\core\\indexing.py:1452\u001b[0m, in \u001b[0;36m_iLocIndexer._validate_integer\u001b[1;34m(self, key, axis)\u001b[0m\n\u001b[0;32m   1450\u001b[0m len_axis \u001b[38;5;241m=\u001b[39m \u001b[38;5;28mlen\u001b[39m(\u001b[38;5;28mself\u001b[39m\u001b[38;5;241m.\u001b[39mobj\u001b[38;5;241m.\u001b[39m_get_axis(axis))\n\u001b[0;32m   1451\u001b[0m \u001b[38;5;28;01mif\u001b[39;00m key \u001b[38;5;241m>\u001b[39m\u001b[38;5;241m=\u001b[39m len_axis \u001b[38;5;129;01mor\u001b[39;00m key \u001b[38;5;241m<\u001b[39m \u001b[38;5;241m-\u001b[39mlen_axis:\n\u001b[1;32m-> 1452\u001b[0m     \u001b[38;5;28;01mraise\u001b[39;00m \u001b[38;5;167;01mIndexError\u001b[39;00m(\u001b[38;5;124m\"\u001b[39m\u001b[38;5;124msingle positional indexer is out-of-bounds\u001b[39m\u001b[38;5;124m\"\u001b[39m)\n",
      "\u001b[1;31mIndexError\u001b[0m: single positional indexer is out-of-bounds"
     ]
    }
   ],
   "source": [
    "globalDataFrame = pd.DataFrame()\n",
    "allListings = GetAllListings(flatsPriceData)"
   ]
  },
  {
   "cell_type": "code",
   "execution_count": 203,
   "id": "372f4e0d-d311-4d53-b08a-27a866b5e96f",
   "metadata": {},
   "outputs": [],
   "source": [
    "def ChangeDataTypesAndCleanData(df):\n",
    "    df = df.reset_index()\n",
    "    df[\"Price\"] = pd.to_numeric(df[\"Price\"])\n",
    "    df[\"PricePerM2\"] = pd.to_numeric(df[\"PricePerM2\"])\n",
    "    df[\"Area\"] = pd.to_numeric(df[\"Area\"])\n",
    "    df[\"floor\"] = pd.to_numeric(df[\"floor\"])\n",
    "    df[\"Number of floors\"] = pd.to_numeric(df[\"Number of floors\"])\n",
    "    df[\"Room count\"] = pd.to_numeric(df[\"Room count\"])\n",
    "    df['Built year'] = df['Built year'].apply(lambda x: x[0:4])\n",
    "    df[\"Built year\"] = pd.to_datetime(df['Built year'].apply(lambda x: x[0:4]) + \"-01-01\")\n",
    "    \n",
    "    df[\"Equipment\"] = df[\"Equipment\"].apply(lambda x: \"Partial decoration\" if \"USEFUL\" in x else x)\n",
    "    return df"
   ]
  },
  {
   "cell_type": "code",
   "execution_count": 204,
   "id": "26608588-942f-4cec-bab1-489970dd5bcf",
   "metadata": {},
   "outputs": [
    {
     "ename": "OutOfBoundsDatetime",
     "evalue": "Out of bounds nanosecond timestamp: 1000-01-01 00:00:00",
     "output_type": "error",
     "traceback": [
      "\u001b[1;31m---------------------------------------------------------------------------\u001b[0m",
      "\u001b[1;31mTypeError\u001b[0m                                 Traceback (most recent call last)",
      "File \u001b[1;32m~\\Anaconda3\\envs\\Python_3_10_6\\lib\\site-packages\\pandas\\core\\arrays\\datetimes.py:2236\u001b[0m, in \u001b[0;36mobjects_to_datetime64ns\u001b[1;34m(data, dayfirst, yearfirst, utc, errors, require_iso8601, allow_object, allow_mixed)\u001b[0m\n\u001b[0;32m   2235\u001b[0m \u001b[38;5;28;01mtry\u001b[39;00m:\n\u001b[1;32m-> 2236\u001b[0m     values, tz_parsed \u001b[38;5;241m=\u001b[39m \u001b[43mconversion\u001b[49m\u001b[38;5;241;43m.\u001b[39;49m\u001b[43mdatetime_to_datetime64\u001b[49m\u001b[43m(\u001b[49m\u001b[43mdata\u001b[49m\u001b[38;5;241;43m.\u001b[39;49m\u001b[43mravel\u001b[49m\u001b[43m(\u001b[49m\u001b[38;5;124;43m\"\u001b[39;49m\u001b[38;5;124;43mK\u001b[39;49m\u001b[38;5;124;43m\"\u001b[39;49m\u001b[43m)\u001b[49m\u001b[43m)\u001b[49m\n\u001b[0;32m   2237\u001b[0m     \u001b[38;5;66;03m# If tzaware, these values represent unix timestamps, so we\u001b[39;00m\n\u001b[0;32m   2238\u001b[0m     \u001b[38;5;66;03m#  return them as i8 to distinguish from wall times\u001b[39;00m\n",
      "File \u001b[1;32m~\\Anaconda3\\envs\\Python_3_10_6\\lib\\site-packages\\pandas\\_libs\\tslibs\\conversion.pyx:360\u001b[0m, in \u001b[0;36mpandas._libs.tslibs.conversion.datetime_to_datetime64\u001b[1;34m()\u001b[0m\n",
      "\u001b[1;31mTypeError\u001b[0m: Unrecognized value type: <class 'str'>",
      "\nDuring handling of the above exception, another exception occurred:\n",
      "\u001b[1;31mOutOfBoundsDatetime\u001b[0m                       Traceback (most recent call last)",
      "Input \u001b[1;32mIn [204]\u001b[0m, in \u001b[0;36m<cell line: 1>\u001b[1;34m()\u001b[0m\n\u001b[1;32m----> 1\u001b[0m allListings \u001b[38;5;241m=\u001b[39m \u001b[43mChangeDataTypesAndCleanData\u001b[49m\u001b[43m(\u001b[49m\u001b[43mallListings\u001b[49m\u001b[43m)\u001b[49m\n",
      "Input \u001b[1;32mIn [203]\u001b[0m, in \u001b[0;36mChangeDataTypesAndCleanData\u001b[1;34m(df)\u001b[0m\n\u001b[0;32m      8\u001b[0m df[\u001b[38;5;124m\"\u001b[39m\u001b[38;5;124mRoom count\u001b[39m\u001b[38;5;124m\"\u001b[39m] \u001b[38;5;241m=\u001b[39m pd\u001b[38;5;241m.\u001b[39mto_numeric(df[\u001b[38;5;124m\"\u001b[39m\u001b[38;5;124mRoom count\u001b[39m\u001b[38;5;124m\"\u001b[39m])\n\u001b[0;32m      9\u001b[0m df[\u001b[38;5;124m'\u001b[39m\u001b[38;5;124mBuilt year\u001b[39m\u001b[38;5;124m'\u001b[39m] \u001b[38;5;241m=\u001b[39m df[\u001b[38;5;124m'\u001b[39m\u001b[38;5;124mBuilt year\u001b[39m\u001b[38;5;124m'\u001b[39m]\u001b[38;5;241m.\u001b[39mapply(\u001b[38;5;28;01mlambda\u001b[39;00m x: x[\u001b[38;5;241m0\u001b[39m:\u001b[38;5;241m4\u001b[39m])\n\u001b[1;32m---> 10\u001b[0m df[\u001b[38;5;124m\"\u001b[39m\u001b[38;5;124mBuilt year\u001b[39m\u001b[38;5;124m\"\u001b[39m] \u001b[38;5;241m=\u001b[39m \u001b[43mpd\u001b[49m\u001b[38;5;241;43m.\u001b[39;49m\u001b[43mto_datetime\u001b[49m\u001b[43m(\u001b[49m\u001b[43mdf\u001b[49m\u001b[43m[\u001b[49m\u001b[38;5;124;43m'\u001b[39;49m\u001b[38;5;124;43mBuilt year\u001b[39;49m\u001b[38;5;124;43m'\u001b[39;49m\u001b[43m]\u001b[49m\u001b[38;5;241;43m.\u001b[39;49m\u001b[43mapply\u001b[49m\u001b[43m(\u001b[49m\u001b[38;5;28;43;01mlambda\u001b[39;49;00m\u001b[43m \u001b[49m\u001b[43mx\u001b[49m\u001b[43m:\u001b[49m\u001b[43m \u001b[49m\u001b[43mx\u001b[49m\u001b[43m[\u001b[49m\u001b[38;5;241;43m0\u001b[39;49m\u001b[43m:\u001b[49m\u001b[38;5;241;43m4\u001b[39;49m\u001b[43m]\u001b[49m\u001b[43m)\u001b[49m\u001b[43m \u001b[49m\u001b[38;5;241;43m+\u001b[39;49m\u001b[43m \u001b[49m\u001b[38;5;124;43m\"\u001b[39;49m\u001b[38;5;124;43m-01-01\u001b[39;49m\u001b[38;5;124;43m\"\u001b[39;49m\u001b[43m)\u001b[49m\n\u001b[0;32m     12\u001b[0m df[\u001b[38;5;124m\"\u001b[39m\u001b[38;5;124mEquipment\u001b[39m\u001b[38;5;124m\"\u001b[39m] \u001b[38;5;241m=\u001b[39m df[\u001b[38;5;124m\"\u001b[39m\u001b[38;5;124mEquipment\u001b[39m\u001b[38;5;124m\"\u001b[39m]\u001b[38;5;241m.\u001b[39mapply(\u001b[38;5;28;01mlambda\u001b[39;00m x: \u001b[38;5;124m\"\u001b[39m\u001b[38;5;124mPartial decoration\u001b[39m\u001b[38;5;124m\"\u001b[39m \u001b[38;5;28;01mif\u001b[39;00m \u001b[38;5;124m\"\u001b[39m\u001b[38;5;124mUSEFUL\u001b[39m\u001b[38;5;124m\"\u001b[39m \u001b[38;5;129;01min\u001b[39;00m x \u001b[38;5;28;01melse\u001b[39;00m x)\n\u001b[0;32m     13\u001b[0m \u001b[38;5;28;01mreturn\u001b[39;00m df\n",
      "File \u001b[1;32m~\\Anaconda3\\envs\\Python_3_10_6\\lib\\site-packages\\pandas\\core\\tools\\datetimes.py:1047\u001b[0m, in \u001b[0;36mto_datetime\u001b[1;34m(arg, errors, dayfirst, yearfirst, utc, format, exact, unit, infer_datetime_format, origin, cache)\u001b[0m\n\u001b[0;32m   1045\u001b[0m             result \u001b[38;5;241m=\u001b[39m arg\u001b[38;5;241m.\u001b[39mtz_localize(tz)\n\u001b[0;32m   1046\u001b[0m \u001b[38;5;28;01melif\u001b[39;00m \u001b[38;5;28misinstance\u001b[39m(arg, ABCSeries):\n\u001b[1;32m-> 1047\u001b[0m     cache_array \u001b[38;5;241m=\u001b[39m \u001b[43m_maybe_cache\u001b[49m\u001b[43m(\u001b[49m\u001b[43marg\u001b[49m\u001b[43m,\u001b[49m\u001b[43m \u001b[49m\u001b[38;5;28;43mformat\u001b[39;49m\u001b[43m,\u001b[49m\u001b[43m \u001b[49m\u001b[43mcache\u001b[49m\u001b[43m,\u001b[49m\u001b[43m \u001b[49m\u001b[43mconvert_listlike\u001b[49m\u001b[43m)\u001b[49m\n\u001b[0;32m   1048\u001b[0m     \u001b[38;5;28;01mif\u001b[39;00m \u001b[38;5;129;01mnot\u001b[39;00m cache_array\u001b[38;5;241m.\u001b[39mempty:\n\u001b[0;32m   1049\u001b[0m         result \u001b[38;5;241m=\u001b[39m arg\u001b[38;5;241m.\u001b[39mmap(cache_array)\n",
      "File \u001b[1;32m~\\Anaconda3\\envs\\Python_3_10_6\\lib\\site-packages\\pandas\\core\\tools\\datetimes.py:197\u001b[0m, in \u001b[0;36m_maybe_cache\u001b[1;34m(arg, format, cache, convert_listlike)\u001b[0m\n\u001b[0;32m    195\u001b[0m unique_dates \u001b[38;5;241m=\u001b[39m unique(arg)\n\u001b[0;32m    196\u001b[0m \u001b[38;5;28;01mif\u001b[39;00m \u001b[38;5;28mlen\u001b[39m(unique_dates) \u001b[38;5;241m<\u001b[39m \u001b[38;5;28mlen\u001b[39m(arg):\n\u001b[1;32m--> 197\u001b[0m     cache_dates \u001b[38;5;241m=\u001b[39m \u001b[43mconvert_listlike\u001b[49m\u001b[43m(\u001b[49m\u001b[43munique_dates\u001b[49m\u001b[43m,\u001b[49m\u001b[43m \u001b[49m\u001b[38;5;28;43mformat\u001b[39;49m\u001b[43m)\u001b[49m\n\u001b[0;32m    198\u001b[0m     cache_array \u001b[38;5;241m=\u001b[39m Series(cache_dates, index\u001b[38;5;241m=\u001b[39munique_dates)\n\u001b[0;32m    199\u001b[0m     \u001b[38;5;66;03m# GH#39882 and GH#35888 in case of None and NaT we get duplicates\u001b[39;00m\n",
      "File \u001b[1;32m~\\Anaconda3\\envs\\Python_3_10_6\\lib\\site-packages\\pandas\\core\\tools\\datetimes.py:402\u001b[0m, in \u001b[0;36m_convert_listlike_datetimes\u001b[1;34m(arg, format, name, tz, unit, errors, infer_datetime_format, dayfirst, yearfirst, exact)\u001b[0m\n\u001b[0;32m    400\u001b[0m \u001b[38;5;28;01massert\u001b[39;00m \u001b[38;5;28mformat\u001b[39m \u001b[38;5;129;01mis\u001b[39;00m \u001b[38;5;28;01mNone\u001b[39;00m \u001b[38;5;129;01mor\u001b[39;00m infer_datetime_format\n\u001b[0;32m    401\u001b[0m utc \u001b[38;5;241m=\u001b[39m tz \u001b[38;5;241m==\u001b[39m \u001b[38;5;124m\"\u001b[39m\u001b[38;5;124mutc\u001b[39m\u001b[38;5;124m\"\u001b[39m\n\u001b[1;32m--> 402\u001b[0m result, tz_parsed \u001b[38;5;241m=\u001b[39m \u001b[43mobjects_to_datetime64ns\u001b[49m\u001b[43m(\u001b[49m\n\u001b[0;32m    403\u001b[0m \u001b[43m    \u001b[49m\u001b[43marg\u001b[49m\u001b[43m,\u001b[49m\n\u001b[0;32m    404\u001b[0m \u001b[43m    \u001b[49m\u001b[43mdayfirst\u001b[49m\u001b[38;5;241;43m=\u001b[39;49m\u001b[43mdayfirst\u001b[49m\u001b[43m,\u001b[49m\n\u001b[0;32m    405\u001b[0m \u001b[43m    \u001b[49m\u001b[43myearfirst\u001b[49m\u001b[38;5;241;43m=\u001b[39;49m\u001b[43myearfirst\u001b[49m\u001b[43m,\u001b[49m\n\u001b[0;32m    406\u001b[0m \u001b[43m    \u001b[49m\u001b[43mutc\u001b[49m\u001b[38;5;241;43m=\u001b[39;49m\u001b[43mutc\u001b[49m\u001b[43m,\u001b[49m\n\u001b[0;32m    407\u001b[0m \u001b[43m    \u001b[49m\u001b[43merrors\u001b[49m\u001b[38;5;241;43m=\u001b[39;49m\u001b[43merrors\u001b[49m\u001b[43m,\u001b[49m\n\u001b[0;32m    408\u001b[0m \u001b[43m    \u001b[49m\u001b[43mrequire_iso8601\u001b[49m\u001b[38;5;241;43m=\u001b[39;49m\u001b[43mrequire_iso8601\u001b[49m\u001b[43m,\u001b[49m\n\u001b[0;32m    409\u001b[0m \u001b[43m    \u001b[49m\u001b[43mallow_object\u001b[49m\u001b[38;5;241;43m=\u001b[39;49m\u001b[38;5;28;43;01mTrue\u001b[39;49;00m\u001b[43m,\u001b[49m\n\u001b[0;32m    410\u001b[0m \u001b[43m\u001b[49m\u001b[43m)\u001b[49m\n\u001b[0;32m    412\u001b[0m \u001b[38;5;28;01mif\u001b[39;00m tz_parsed \u001b[38;5;129;01mis\u001b[39;00m \u001b[38;5;129;01mnot\u001b[39;00m \u001b[38;5;28;01mNone\u001b[39;00m:\n\u001b[0;32m    413\u001b[0m     \u001b[38;5;66;03m# We can take a shortcut since the datetime64 numpy array\u001b[39;00m\n\u001b[0;32m    414\u001b[0m     \u001b[38;5;66;03m# is in UTC\u001b[39;00m\n\u001b[0;32m    415\u001b[0m     dta \u001b[38;5;241m=\u001b[39m DatetimeArray(result, dtype\u001b[38;5;241m=\u001b[39mtz_to_dtype(tz_parsed))\n",
      "File \u001b[1;32m~\\Anaconda3\\envs\\Python_3_10_6\\lib\\site-packages\\pandas\\core\\arrays\\datetimes.py:2242\u001b[0m, in \u001b[0;36mobjects_to_datetime64ns\u001b[1;34m(data, dayfirst, yearfirst, utc, errors, require_iso8601, allow_object, allow_mixed)\u001b[0m\n\u001b[0;32m   2240\u001b[0m         \u001b[38;5;28;01mreturn\u001b[39;00m values\u001b[38;5;241m.\u001b[39mview(\u001b[38;5;124m\"\u001b[39m\u001b[38;5;124mi8\u001b[39m\u001b[38;5;124m\"\u001b[39m), tz_parsed\n\u001b[0;32m   2241\u001b[0m     \u001b[38;5;28;01mexcept\u001b[39;00m (\u001b[38;5;167;01mValueError\u001b[39;00m, \u001b[38;5;167;01mTypeError\u001b[39;00m):\n\u001b[1;32m-> 2242\u001b[0m         \u001b[38;5;28;01mraise\u001b[39;00m err\n\u001b[0;32m   2244\u001b[0m \u001b[38;5;28;01mif\u001b[39;00m tz_parsed \u001b[38;5;129;01mis\u001b[39;00m \u001b[38;5;129;01mnot\u001b[39;00m \u001b[38;5;28;01mNone\u001b[39;00m:\n\u001b[0;32m   2245\u001b[0m     \u001b[38;5;66;03m# We can take a shortcut since the datetime64 numpy array\u001b[39;00m\n\u001b[0;32m   2246\u001b[0m     \u001b[38;5;66;03m#  is in UTC\u001b[39;00m\n\u001b[0;32m   2247\u001b[0m     \u001b[38;5;66;03m# Return i8 values to denote unix timestamps\u001b[39;00m\n\u001b[0;32m   2248\u001b[0m     \u001b[38;5;28;01mreturn\u001b[39;00m result\u001b[38;5;241m.\u001b[39mview(\u001b[38;5;124m\"\u001b[39m\u001b[38;5;124mi8\u001b[39m\u001b[38;5;124m\"\u001b[39m), tz_parsed\n",
      "File \u001b[1;32m~\\Anaconda3\\envs\\Python_3_10_6\\lib\\site-packages\\pandas\\core\\arrays\\datetimes.py:2224\u001b[0m, in \u001b[0;36mobjects_to_datetime64ns\u001b[1;34m(data, dayfirst, yearfirst, utc, errors, require_iso8601, allow_object, allow_mixed)\u001b[0m\n\u001b[0;32m   2222\u001b[0m order: Literal[\u001b[38;5;124m\"\u001b[39m\u001b[38;5;124mF\u001b[39m\u001b[38;5;124m\"\u001b[39m, \u001b[38;5;124m\"\u001b[39m\u001b[38;5;124mC\u001b[39m\u001b[38;5;124m\"\u001b[39m] \u001b[38;5;241m=\u001b[39m \u001b[38;5;124m\"\u001b[39m\u001b[38;5;124mF\u001b[39m\u001b[38;5;124m\"\u001b[39m \u001b[38;5;28;01mif\u001b[39;00m flags\u001b[38;5;241m.\u001b[39mf_contiguous \u001b[38;5;28;01melse\u001b[39;00m \u001b[38;5;124m\"\u001b[39m\u001b[38;5;124mC\u001b[39m\u001b[38;5;124m\"\u001b[39m\n\u001b[0;32m   2223\u001b[0m \u001b[38;5;28;01mtry\u001b[39;00m:\n\u001b[1;32m-> 2224\u001b[0m     result, tz_parsed \u001b[38;5;241m=\u001b[39m \u001b[43mtslib\u001b[49m\u001b[38;5;241;43m.\u001b[39;49m\u001b[43marray_to_datetime\u001b[49m\u001b[43m(\u001b[49m\n\u001b[0;32m   2225\u001b[0m \u001b[43m        \u001b[49m\u001b[43mdata\u001b[49m\u001b[38;5;241;43m.\u001b[39;49m\u001b[43mravel\u001b[49m\u001b[43m(\u001b[49m\u001b[38;5;124;43m\"\u001b[39;49m\u001b[38;5;124;43mK\u001b[39;49m\u001b[38;5;124;43m\"\u001b[39;49m\u001b[43m)\u001b[49m\u001b[43m,\u001b[49m\n\u001b[0;32m   2226\u001b[0m \u001b[43m        \u001b[49m\u001b[43merrors\u001b[49m\u001b[38;5;241;43m=\u001b[39;49m\u001b[43merrors\u001b[49m\u001b[43m,\u001b[49m\n\u001b[0;32m   2227\u001b[0m \u001b[43m        \u001b[49m\u001b[43mutc\u001b[49m\u001b[38;5;241;43m=\u001b[39;49m\u001b[43mutc\u001b[49m\u001b[43m,\u001b[49m\n\u001b[0;32m   2228\u001b[0m \u001b[43m        \u001b[49m\u001b[43mdayfirst\u001b[49m\u001b[38;5;241;43m=\u001b[39;49m\u001b[43mdayfirst\u001b[49m\u001b[43m,\u001b[49m\n\u001b[0;32m   2229\u001b[0m \u001b[43m        \u001b[49m\u001b[43myearfirst\u001b[49m\u001b[38;5;241;43m=\u001b[39;49m\u001b[43myearfirst\u001b[49m\u001b[43m,\u001b[49m\n\u001b[0;32m   2230\u001b[0m \u001b[43m        \u001b[49m\u001b[43mrequire_iso8601\u001b[49m\u001b[38;5;241;43m=\u001b[39;49m\u001b[43mrequire_iso8601\u001b[49m\u001b[43m,\u001b[49m\n\u001b[0;32m   2231\u001b[0m \u001b[43m        \u001b[49m\u001b[43mallow_mixed\u001b[49m\u001b[38;5;241;43m=\u001b[39;49m\u001b[43mallow_mixed\u001b[49m\u001b[43m,\u001b[49m\n\u001b[0;32m   2232\u001b[0m \u001b[43m    \u001b[49m\u001b[43m)\u001b[49m\n\u001b[0;32m   2233\u001b[0m     result \u001b[38;5;241m=\u001b[39m result\u001b[38;5;241m.\u001b[39mreshape(data\u001b[38;5;241m.\u001b[39mshape, order\u001b[38;5;241m=\u001b[39morder)\n\u001b[0;32m   2234\u001b[0m \u001b[38;5;28;01mexcept\u001b[39;00m \u001b[38;5;167;01mValueError\u001b[39;00m \u001b[38;5;28;01mas\u001b[39;00m err:\n",
      "File \u001b[1;32m~\\Anaconda3\\envs\\Python_3_10_6\\lib\\site-packages\\pandas\\_libs\\tslib.pyx:381\u001b[0m, in \u001b[0;36mpandas._libs.tslib.array_to_datetime\u001b[1;34m()\u001b[0m\n",
      "File \u001b[1;32m~\\Anaconda3\\envs\\Python_3_10_6\\lib\\site-packages\\pandas\\_libs\\tslib.pyx:608\u001b[0m, in \u001b[0;36mpandas._libs.tslib.array_to_datetime\u001b[1;34m()\u001b[0m\n",
      "File \u001b[1;32m~\\Anaconda3\\envs\\Python_3_10_6\\lib\\site-packages\\pandas\\_libs\\tslib.pyx:604\u001b[0m, in \u001b[0;36mpandas._libs.tslib.array_to_datetime\u001b[1;34m()\u001b[0m\n",
      "File \u001b[1;32m~\\Anaconda3\\envs\\Python_3_10_6\\lib\\site-packages\\pandas\\_libs\\tslib.pyx:580\u001b[0m, in \u001b[0;36mpandas._libs.tslib.array_to_datetime\u001b[1;34m()\u001b[0m\n",
      "File \u001b[1;32m~\\Anaconda3\\envs\\Python_3_10_6\\lib\\site-packages\\pandas\\_libs\\tslibs\\np_datetime.pyx:120\u001b[0m, in \u001b[0;36mpandas._libs.tslibs.np_datetime.check_dts_bounds\u001b[1;34m()\u001b[0m\n",
      "\u001b[1;31mOutOfBoundsDatetime\u001b[0m: Out of bounds nanosecond timestamp: 1000-01-01 00:00:00"
     ]
    }
   ],
   "source": [
    "allListings = ChangeDataTypesAndCleanData(allListings)"
   ]
  },
  {
   "cell_type": "code",
   "execution_count": 205,
   "id": "01a1971b-e814-4305-8745-9d2e52fe3f4d",
   "metadata": {},
   "outputs": [],
   "source": [
    "allListings = allListings.reset_index(drop=True)"
   ]
  },
  {
   "cell_type": "code",
   "execution_count": 206,
   "id": "fd8e28c1-dd11-4621-8901-8fcec1d032e1",
   "metadata": {},
   "outputs": [],
   "source": [
    "df = pd.DataFrame()\n",
    "df['date2'] = pd.to_datetime(allListings['Built year'].apply(lambda x: x[0:4]) + \"-01-01\", errors = 'coerce')\n",
    "df = df.reset_index(drop=True)"
   ]
  },
  {
   "cell_type": "code",
   "execution_count": 207,
   "id": "388daed7-1cdf-4337-a239-a1cd205ef4b8",
   "metadata": {},
   "outputs": [
    {
     "data": {
      "text/plain": [
       "<PandasArray>\n",
       "[712, 1738, 2137, 2746, 4044, 4117]\n",
       "Length: 6, dtype: int64"
      ]
     },
     "execution_count": 207,
     "metadata": {},
     "output_type": "execute_result"
    }
   ],
   "source": [
    "indexesForCleaning = df.loc[df['date2'].isna()].index.array\n",
    "indexesForCleaning"
   ]
  },
  {
   "cell_type": "code",
   "execution_count": 208,
   "id": "d4ccc447-ce3f-48c6-b24d-b9312479604e",
   "metadata": {},
   "outputs": [
    {
     "data": {
      "text/plain": [
       "'1000'"
      ]
     },
     "execution_count": 208,
     "metadata": {},
     "output_type": "execute_result"
    }
   ],
   "source": [
    "allListings['Built year'].iloc[712]\n",
    "#allListings['href'].iloc[712]"
   ]
  },
  {
   "cell_type": "code",
   "execution_count": 209,
   "id": "f896789c-8550-4e8b-b6ea-1881cd365982",
   "metadata": {},
   "outputs": [
    {
     "data": {
      "text/plain": [
       "Price                                                           36000\n",
       "PricePerM2                                                       1500\n",
       "Area                                                               24\n",
       "floor                                                               3\n",
       "Number of floors                                                    5\n",
       "                                          ...                        \n",
       "Heating                                                       Central\n",
       "Equipment                                              Fully equipped\n",
       "City                                                           Kaunas\n",
       "District                                                      Dainava\n",
       "href                https://en.aruodas.lt/butai-kaune-dainavoje-v-...\n",
       "Name: 712, Length: 12, dtype: object"
      ]
     },
     "execution_count": 209,
     "metadata": {},
     "output_type": "execute_result"
    }
   ],
   "source": [
    "allListings.iloc[712]"
   ]
  },
  {
   "cell_type": "code",
   "execution_count": 210,
   "id": "82a3460b-2386-4e60-aaa7-8c460cabc6b6",
   "metadata": {},
   "outputs": [],
   "source": [
    "for index in indexesForCleaning:\n",
    "    indexesForCleaning = df.loc[df['date2'].isna()].index.array\n",
    "    cityForCleaning = allListings['City'].iloc[index]\n",
    "    districtForCleaning = allListings['District'].iloc[index]\n",
    "    withoutProblematicDates = allListings[~allListings.index.isin(indexesForCleaning)]\n",
    "    filter1 = withoutProblematicDates['City'] == cityForCleaning\n",
    "    filter2 = withoutProblematicDates['District'] == districtForCleaning\n",
    "\n",
    "    withoutProblematicDates = withoutProblematicDates.loc[filter1 * filter2]\n",
    "    dates = pd.to_datetime(withoutProblematicDates['Built year'].apply(lambda x: x[0:4]) + \"-01-01\")\n",
    "    medianDate = int(np.median(np.array(dates.map(dt.datetime.toordinal))))\n",
    "    medianDate = dt.datetime.fromordinal(medianDate)\n",
    "    year = str(medianDate)[0:4]\n",
    "    allListings[\"Built year\"].iloc[index] = year"
   ]
  },
  {
   "cell_type": "code",
   "execution_count": 212,
   "id": "df7f433a-2ef8-40e1-84e6-e043334e2dd9",
   "metadata": {},
   "outputs": [
    {
     "name": "stdout",
     "output_type": "stream",
     "text": [
      "1973\n",
      "1984\n"
     ]
    }
   ],
   "source": [
    "print(allListings['Built year'].iloc[712])\n",
    "print(allListings['Built year'].iloc[1738])"
   ]
  },
  {
   "cell_type": "code",
   "execution_count": 213,
   "id": "f3e5794e-b4b8-4a30-bd8f-e3fe462bf5c2",
   "metadata": {},
   "outputs": [],
   "source": [
    "allListings = ChangeDataTypesAndCleanData(allListings)"
   ]
  },
  {
   "cell_type": "code",
   "execution_count": 214,
   "id": "d0fd4a79-9c2f-4269-a289-6bfb8aedd771",
   "metadata": {},
   "outputs": [],
   "source": [
    "allListings.to_csv('./AllListings.csv', index=False, encoding='utf-8-sig')"
   ]
  },
  {
   "cell_type": "code",
   "execution_count": 249,
   "id": "68d13499-fa6e-488a-ab05-448c4809a399",
   "metadata": {},
   "outputs": [],
   "source": [
    "pd.set_option('display.max_rows', 10)\n",
    "allListingsCount = (allListings.groupby(['City', 'District']).size().reset_index(name='ListingsCount'))\n",
    "eligibleListings = allListingsCount[allListingsCount[\"ListingsCount\"]>=20].reset_index(drop=True)\n",
    "eligibleListings.to_csv('./EligibleListings.csv', index=False, encoding='utf-8-sig')"
   ]
  },
  {
   "cell_type": "code",
   "execution_count": 270,
   "id": "ab5fb189-8423-42df-bb1e-aa6b6cd8066b",
   "metadata": {},
   "outputs": [],
   "source": [
    "allEligiblePropertiesFilter = allListings[\"District\"].apply(lambda x: True if x in eligibleListings[\"District\"].array else False)\n",
    "allEligibleListings = allListings[allEligiblePropertiesFilter].drop(\"index\", axis = 1)\n",
    "allEligibleListings.to_csv('./AllEligibleListings.csv', index=False, encoding='utf-8-sig')"
   ]
  }
 ],
 "metadata": {
  "kernelspec": {
   "display_name": "Python 3 (ipykernel)",
   "language": "python",
   "name": "python3"
  },
  "language_info": {
   "codemirror_mode": {
    "name": "ipython",
    "version": 3
   },
   "file_extension": ".py",
   "mimetype": "text/x-python",
   "name": "python",
   "nbconvert_exporter": "python",
   "pygments_lexer": "ipython3",
   "version": "3.10.4"
  }
 },
 "nbformat": 4,
 "nbformat_minor": 5
}
